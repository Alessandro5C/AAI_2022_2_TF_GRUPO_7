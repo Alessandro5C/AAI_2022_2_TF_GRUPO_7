{
  "nbformat": 4,
  "nbformat_minor": 0,
  "metadata": {
    "colab": {
      "provenance": [],
      "collapsed_sections": [
        "ELWRoygqWtRB",
        "Z8d_c8mbYDbl"
      ]
    },
    "kernelspec": {
      "name": "python3",
      "display_name": "Python 3"
    },
    "language_info": {
      "name": "python"
    },
    "accelerator": "GPU",
    "gpuClass": "standard"
  },
  "cells": [
    {
      "cell_type": "markdown",
      "source": [
        "# TRABAJO FINAL - ADVANCED ARTFICIAL INTELLIGENCE CC206\n",
        "\n",
        "Periodo académico: 2022-2 \\\n",
        "Sección: CC62\n",
        "\n",
        "> Version de Sebastián Arana"
      ],
      "metadata": {
        "id": "KJf4pE5xWE4m"
      }
    },
    {
      "cell_type": "markdown",
      "source": [
        "## Instancias"
      ],
      "metadata": {
        "id": "ELWRoygqWtRB"
      }
    },
    {
      "cell_type": "code",
      "execution_count": null,
      "metadata": {
        "colab": {
          "base_uri": "https://localhost:8080/"
        },
        "id": "rPhk1dtp7V8U",
        "outputId": "3b526ac1-f2a3-480e-cb5c-296e37eaeaff"
      },
      "outputs": [
        {
          "output_type": "stream",
          "name": "stdout",
          "text": [
            "Writing abz7\n"
          ]
        }
      ],
      "source": [
        "%%file abz7\n",
        "20 15\n",
        " 2 24  3 12  9 17  4 27  0 21  6 25  8 27  7 26  1 30  5 31 11 18 14 16 13 39 10 19 12 26\n",
        " 6 30  3 15 12 20 11 19  1 24 13 15 10 28  2 36  5 26  7 15  0 11  8 23 14 20  9 26  4 28\n",
        " 6 35  0 22 13 23  7 32  2 20  3 12 12 19 10 23  9 17  1 14  5 16 11 29  8 16  4 22 14 22\n",
        " 9 20  6 29  1 19  7 14 12 33  4 30  0 32  5 21 11 29 10 24 14 25  2 29  3 13  8 20 13 18\n",
        "11 23 13 20  1 28  6 32  7 16  5 18  8 24  9 23  3 24 10 34  2 24  0 24 14 28 12 15  4 18\n",
        " 8 24 11 19 14 21  1 33  7 34  6 35  5 40 10 36  3 23  2 26  4 15  9 28 13 38 12 13  0 25\n",
        "13 27  3 30  6 21  8 19 12 12  4 27  2 39  9 13 14 12  5 36 10 21 11 17  1 29  0 17  7 33\n",
        " 5 27  4 19  6 29  9 20  3 21 10 40  8 14 14 39 13 39  2 27  1 36 12 12 11 37  7 22  0 13\n",
        "13 32 11 29  8 24  3 27  5 40  4 21  9 26  0 27 14 27  6 16  2 21 10 13  7 28 12 28  1 32\n",
        "12 35  1 11  5 39 14 18  7 23  0 34  3 24 13 11  8 30 11 31  4 15 10 15  2 28  9 26  6 33\n",
        "10 28  5 37 12 29  1 31  7 25  8 13 14 14  4 20  3 27  9 25 13 31 11 14  6 25  2 39  0 36\n",
        " 0 22 11 25  5 28 13 35  4 31  8 21  9 20 14 19  2 29  7 32 10 18  1 18  3 11 12 17  6 15\n",
        "12 39  5 32  2 36  8 14  3 28 13 37  0 38  6 20  7 19 11 12 14 22  1 36  4 15  9 32 10 16\n",
        " 8 28  1 29 14 40 12 23  4 34  5 33  6 27 10 17  0 20  7 28 11 21  2 21 13 20  9 33  3 27\n",
        " 9 21 14 34  3 30 12 38  0 11 11 16  2 14  5 14  1 34  8 33  4 23 13 40 10 12  6 23  7 27\n",
        " 9 13 14 40  7 36  4 17  0 13  5 33  8 25 13 24 10 23  3 36  2 29  1 18 11 13  6 33 12 13\n",
        " 3 25  5 15  2 28 12 40  7 39  1 31  8 35  6 31 11 36  4 12 10 33 14 19  9 16 13 27  0 21\n",
        "12 22 10 14  0 12  2 20  5 12  1 18 11 17  8 39 14 31  3 31  7 32  9 20 13 29  4 13  6 26\n",
        " 5 18 10 30  7 38 14 22 13 15 11 20  9 16  3 17  1 12  2 13 12 40  6 17  8 30  4 38  0 13\n",
        " 9 31  8 39 12 27  1 14  5 33  3 31 11 22 13 36  0 16  7 11 14 14  4 29  6 28  2 22 10 17"
      ]
    },
    {
      "cell_type": "code",
      "source": [
        "%%file la04\n",
        "10 5\n",
        "0 12 2 94 3 92 4 91 1  7\n",
        "1 19 3 11 4 66 2 21 0 87\n",
        "1 14 0 75 3 13 4 16 2 20\n",
        "2 95 4 66 0  7 3  7 1 77\n",
        "1 45 3  6 4 89 0 15 2 34\n",
        "3 77 2 20 0 76 4 88 1 53\n",
        "2 74 1 88 0 52 3 27 4  9\n",
        "1 88 3 69 0 62 4 98 2 52\n",
        "2 61 4  9 0 62 1 52 3 90\n",
        "2 54 4  5 3 59 1 15 0 88"
      ],
      "metadata": {
        "colab": {
          "base_uri": "https://localhost:8080/"
        },
        "id": "eievLXhcVt4z",
        "outputId": "e4c2450d-3921-43ca-a104-e4e80aadc12a"
      },
      "execution_count": null,
      "outputs": [
        {
          "output_type": "stream",
          "name": "stdout",
          "text": [
            "Writing la04\n"
          ]
        }
      ]
    },
    {
      "cell_type": "code",
      "source": [
        "%%file swv15\n",
        "50 10\n",
        " 2  93  4  40  0   1  3  77  1  77  5  16  9  74  8  11  6  51  7  92\n",
        " 0  92  4  80  1  76  3  59  2  70  5  86  9  17  6  78  7  30  8  93\n",
        " 1  44  2  92  3  96  4  77  0  53  9  10  7  49  5  84  8  59  6  14\n",
        " 1  60  2  19  3  76  0  73  4  85  7  13  8  93  5  68  9  50  6  78\n",
        " 2  20  0  24  3  41  1   2  4   4  9  44  7  79  8  81  5  16  6  39\n",
        " 3  41  2  35  1  32  4  18  0  15  8  98  6  29  5  19  7  14  9  26\n",
        " 1  59  0  45  4  53  3  44  2  98  5  84  6  23  7  45  8  39  9  89\n",
        " 1  30  4  51  3  25  0  51  2  84  6  60  5  45  7  89  8  25  9  97\n",
        " 0  47  3  18  2  40  4  62  1  58  5  36  7  93  8  77  9  90  6  15\n",
        " 3  33  1  68  0  41  4  72  2  20  6  69  7  47  5  22  9  47  8  22\n",
        " 2  28  1 100  4  20  0  35  3  26  5  24  9  41  6  42  7 100  8  32\n",
        " 0  65  2  12  4  53  3  93  1  40  8  18  7  23  5  60  6  89  9  53\n",
        " 0  58  1  60  4  97  3  31  2  50  9  85  5  64  7  38  6  85  8  35\n",
        " 3  64  0  58  1  49  2  45  4   9  8  49  6  22  5  99  9  15  7   7\n",
        " 0  10  4  85  3  72  2  37  1  77  5  70  7  45  9   8  6  83  8  57\n",
        " 4  93  0  87  1  87  2  18  3   4  8  78  5  67  9  20  6  17  7  35\n",
        " 4  72  0  56  3  57  2  15  1  45  6  41  5  40  9  85  8  32  7  81\n",
        " 0  36  3  63  4  79  2  32  1   5  6  25  7  86  9  91  5  21  8  35\n",
        " 2  83  4  29  0   9  1  38  3  73  7  50  9  99  5  18  8  29  6  41\n",
        " 0 100  3  29  2  60  4  63  1  64  8  71  6  35  5  26  9   9  7  22\n",
        " 1  81  0  60  3  62  4  48  2  68  7  28  5  69  8  92  6  79  9  10\n",
        " 0  40  4  80  1  41  2  10  3  68  8  28  9  51  7  33  6  82  5  25\n",
        " 4  30  2  12  0  35  3  17  1  70  9  29  7  18  8  93  6  94  5  37\n",
        " 1  36  2  41  3  27  4  36  0  78  7  64  6  88  5  25  9  92  8  66\n",
        " 2  65  3  27  4  74  0  32  1  40  5  88  8  73  6  92  7  83  9  42\n",
        " 0  48  1  85  2  92  4  95  3  61  8  72  9  76  5  58  7  11  6  89\n",
        " 3  84  2  50  0  70  4  24  1  42  9  55  5 100  6  70  7   4  8  68\n",
        " 0  95  4  41  2  11  3  98  1  85  5  64  6   8  7  26  8   6  9   6\n",
        " 0  84  2  49  1  17  3  69  4  55  8  75  6  45  9  38  7  59  5  28\n",
        " 2  48  0  29  4   1  1  64  3  41  5  23  7  64  9  31  6  56  8  12\n",
        " 2  81  4  25  3  33  0  22  1  50  5  74  9  56  8  33  7  85  6  83\n",
        " 1  62  4  25  0  21  2  20  3   8  6  36  9   9  5  91  8  90  7  49\n",
        " 1  43  0  16  2  91  3  96  4  24  5  11  9  91  7  41  8  35  6  66\n",
        " 1  91  2  20  4  44  0  42  3  87  9  57  6  15  5  38  8  42  7  89\n",
        " 0  33  3  95  4  68  2  22  1  80  7  53  8  13  9  70  5  22  6  69\n",
        " 0  15  3  47  1  24  2  31  4  41  8  14  9  28  7  59  5  52  6  39\n",
        " 2  95  0  42  4   5  1  57  3  67  6  30  9  21  8  70  5   9  7  20\n",
        " 2  54  0  15  1  20  3  64  4  83  9  40  7   6  5  89  6  91  8  48\n",
        " 0  22  4  27  1  77  3  25  2  16  8  72  9  61  6  75  7  4   5  19\n",
        " 3  68  1  82  2  16  0  83  4   2  7  10  8  88  5  41  9  21  6  66\n",
        " 1  64  0  76  2  85  3  71  4  97  5  97  7   8  6  40  8  70  9  35\n",
        " 0  94  1  45  2  94  4  84  3  44  8  41  5  30  7  47  6  19  9  22\n",
        " 2  23  1  10  0  82  3  93  4  90  8  67  7   9  9  18  5  22  6  87\n",
        " 0  75  2  27  4  97  3   9  1  57  9  14  5  50  7  31  8  62  6  23\n",
        " 1  42  3  41  2  35  0  75  4  18  9  65  7  38  6  38  8  51  5  56\n",
        " 4  72  1  63  0  33  2  27  3  41  5  52  7  42  9  10  6  14  8  71\n",
        " 2  91  1  89  0  44  4  91  3  26  6  49  5  22  8  31  9  69  7   5\n",
        " 3  42  1  34  0   4  4  34  2  16  6  86  7  25  8  99  5  67  9  25\n",
        " 4  34  1  93  0  26  3  81  2   9  7  96  8  79  9  68  5  76  6  10\n",
        " 3  19  1  47  4  13  2  98  0  32  7  12  9  45  6  52  8  49  5  34"
      ],
      "metadata": {
        "colab": {
          "base_uri": "https://localhost:8080/"
        },
        "id": "Z297_O9VWAPk",
        "outputId": "c7856c7c-3f32-47d1-dd72-f4bcb2116f34"
      },
      "execution_count": null,
      "outputs": [
        {
          "output_type": "stream",
          "name": "stdout",
          "text": [
            "Writing swv15\n"
          ]
        }
      ]
    },
    {
      "cell_type": "code",
      "source": [
        "%%file yn4\n",
        "20 20\n",
        "16 34 17 38  0 21  6 15 15 42  8 17  7 41 18 10 10 26 11 24  1 31 19 25 14 31 13 33  4 35  9 30  3 16 12 16  5 30  2 13\n",
        " 5 41 11 33  6 15 16 38  0 40 14 38  3 37  1 20 13 22  4 34  7 16 17 39  9 15  2 19 10 36 12 39 18 26  8 19 15 39 19 34\n",
        "17 34  1 12 16 10  7 47 13 28 15 27  0 19  6 34 19 33 12 40  9 37 14 24  8 15 10 34  2 44  3 37 18 22 11 31  4 39  5 26\n",
        " 5 48  7 46 16 47 10 45 14 15  8 25  0 34  3 24 12 35 18 15  2 48 13 19 11 10  1 48 17 16 15 28  4 18  6 17  9 44 19 41\n",
        "12 47  3 23  9 48 16 45 14 39  6 42  8 32 15 11 13 16  5 14 11 19  1 46 19 10 10 17  7 41  2 47 17 32  4 17  0 21 18 17\n",
        "18 14 16 20  1 18 12 14 13 10  6 16  5 24  4 18  0 24 11 18 15 42 19 13  3 23 14 40  9 48  8 12  2 24 10 23  7 45 17 30\n",
        " 0 27 12 15  4 26 13 19 17 14  5 49  7 16 18 28 16 16  8 20  9 36  2 21 14 30  3 36  1 17 15 22  6 43 11 32 10 23 19 17\n",
        " 0 32 16 15 17 12  7 46  3 37 18 43 11 40 13 43  9 48  4 36 15 24  8 25  1 33 14 32  5 26  6 37 12 24 10 24  2 15 19 22\n",
        "10 34  6 33 15 25  8 46  0 20 18 33  4 19 13 45  2 47  1 32  3 12 11 29 16 29  5 46 12 17  7 48 14 39 17 40 19 41  9 37\n",
        "13 26  3 47  5 44  6 49  1 22 17 12 10 28 19 36  9 27  4 25 14 48  7 11 16 49 12 24 11 48  2 19  0 47 18 49  8 46 15 36\n",
        "13 23 18 48 14 15  0 42  3 36  8 15  6 32 10 18  1 45 15 23 11 45  2 13 17 21 12 32  7 44  5 25 19 34 16 22  9 11  4 43\n",
        "17 37  7 49 15 45  2 28  9 15  8 35 12 29 13 44  1 26  4 25  5 30  3 39  0 15 14 28 18 23  6 42 11 33 16 45 10 10 19 20\n",
        " 0 10  6 37  3 15 13 13 10 11  2 49  1 28 14 28 15 13  8 29 12 21 16 32 11 21  4 48  5 11 17 26  9 33 18 22  7 21 19 49\n",
        "18 38  0 41  4 30 13 43  6 11  2 43 14 27  3 26  9 30 15 19 16 36  1 31 17 47  5 41 10 34  8 40 12 32  7 13 11 18 19 27\n",
        " 6 24  5 30  7 10 10 35  8 28 16 43 19 12  9 44 15 15  3 15  2 35 18 43  0 38  4 16  1 29 17 40 14 49 13 38 12 16 11 30\n",
        " 3 48  6 35 13 43  2 37 17 18  5 27  9 27  7 41  1 22 15 28 16 18 10 37 18 48  4 10  8 14 11 18 14 43  0 48 12 12 19 49\n",
        " 0 13 13 38  7 34  6 42  1 36  5 45 18 24  8 35 14 26 19 30 12 47 16 24 11 47  4 40 10 43  3 16 15 10  2 12  9 39 17 22\n",
        "16 30 13 47 19 49  8 20  4 40  3 46 17 21 14 33  6 44  7 23  9 24  0 48 10 43 15 41  2 32  5 29 11 36  1 38 12 47 18 12\n",
        "13 10  5 36 12 18 16 48  0 27 14 43 10 46  6 27  7 46 19 35 11 31  2 18  8 24  3 23 17 29 18 14  9 19  1 40 15 38  4 13\n",
        " 9 45 16 44  0 43 17 31 14 35 13 17 12 42  3 14 18 37 10 39  6 48  7 38 15 26  4 49  2 28 11 35  1 42  5 24  8 44 19 38"
      ],
      "metadata": {
        "colab": {
          "base_uri": "https://localhost:8080/"
        },
        "id": "rOTXE_suWwps",
        "outputId": "5d56e7f4-8827-4ed2-d808-c8891413f67d"
      },
      "execution_count": null,
      "outputs": [
        {
          "output_type": "stream",
          "name": "stdout",
          "text": [
            "Writing yn4\n"
          ]
        }
      ]
    },
    {
      "cell_type": "markdown",
      "source": [
        "## Implementación del Algoritmo"
      ],
      "metadata": {
        "id": "-04ycmG-W8r3"
      }
    },
    {
      "cell_type": "markdown",
      "source": [
        "### Librerias y funciones necesarias"
      ],
      "metadata": {
        "id": "Z8d_c8mbYDbl"
      }
    },
    {
      "cell_type": "code",
      "source": [
        "import time\n",
        "import math\n",
        "import numpy as np\n",
        "import random\n",
        "import matplotlib.pyplot as plt"
      ],
      "metadata": {
        "id": "KOjBZCao83C6"
      },
      "execution_count": null,
      "outputs": []
    },
    {
      "cell_type": "code",
      "source": [
        "def optimizedRandRep2(n, m):\n",
        "    rep = np.tile(np.arange(n), m)\n",
        "    np.random.shuffle(rep)\n",
        "\n",
        "    pos = [(rep == i).nonzero()[0] for i in range(n)]\n",
        "\n",
        "    return rep, np.array(pos)"
      ],
      "metadata": {
        "id": "GywDLVsZfDV-"
      },
      "execution_count": null,
      "outputs": []
    },
    {
      "cell_type": "code",
      "source": [
        "def optimizedCalcMakespan1(rep, n, m, jobs) -> int:\n",
        "    mstart = [0] * m\n",
        "    jend = [0] * n\n",
        "    idxs = [0] * n\n",
        "    makespan = 0\n",
        "    for e in rep:\n",
        "        i = idxs[e]\n",
        "        idxs[e] += 1\n",
        "        midx = jobs[e, i, 0]\n",
        "        mstart[midx] = max(mstart[midx], jend[e]) + jobs[e, i, 1]\n",
        "        jend[e] = mstart[midx]\n",
        "        if mstart[midx] > makespan:\n",
        "            makespan = mstart[midx]\n",
        "\n",
        "    return makespan"
      ],
      "metadata": {
        "id": "8i5adJYSWEQK"
      },
      "execution_count": null,
      "outputs": []
    },
    {
      "cell_type": "code",
      "source": [
        "def mkSolution(rep, n, m, jobs, makespan):\n",
        "    mstart = np.zeros((m), dtype=int)\n",
        "    jend = np.zeros((n), dtype=int)\n",
        "    idxs = np.zeros((n), dtype=int)\n",
        "    schedule = np.zeros((m*10, makespan))\n",
        "\n",
        "    for e in rep:\n",
        "        i = idxs[e]\n",
        "        idxs[e] += 1\n",
        "        midx = jobs[e, i, 0]\n",
        "        time = jobs[e, i, 1]\n",
        "        mstart[midx] = max(mstart[midx], jend[e])\n",
        "        schedule[midx*10:(midx+1)*10, mstart[midx]:mstart[midx] + time] = e+1\n",
        "        mstart[midx] += time\n",
        "        jend[e] = mstart[midx]\n",
        "\n",
        "    plt.subplots(figsize=(20, 10))\n",
        "    plt.imshow(schedule)"
      ],
      "metadata": {
        "id": "0tUSJo05-6Uc"
      },
      "execution_count": null,
      "outputs": []
    },
    {
      "cell_type": "code",
      "source": [
        "def recombination(x1, x2):\n",
        "    n = len(x1)\n",
        "    x = [0]*n\n",
        "    mark1 = [False]*n\n",
        "    mark2 = [False]*n\n",
        "    i1 = 0\n",
        "    i2 = 0\n",
        "    i = 0\n",
        "    for i in range(n):\n",
        "        if random.randint(1, 100) < 50:\n",
        "            while mark1[i1]:\n",
        "                i1 += 1\n",
        "            p = x1[i1]\n",
        "            i1 += 1\n",
        "            for q in range(i2, n):\n",
        "                if x2[q] == p and not mark2[q]:\n",
        "                    mark2[q] = True\n",
        "                    break\n",
        "        else:\n",
        "            while mark2[i2]:\n",
        "                i2 += 1\n",
        "            p = x2[i2]\n",
        "            i2 += 1\n",
        "            for q in range(i1, n):\n",
        "                if x1[q] == p and not mark1[q]:\n",
        "                    mark1[q] = True\n",
        "                    break\n",
        "        x[i] = p\n",
        "\n",
        "    return np.array(x)"
      ],
      "metadata": {
        "id": "9Gn-2KG3G2GJ"
      },
      "execution_count": null,
      "outputs": []
    },
    {
      "cell_type": "markdown",
      "source": [
        "### EAC (Evolutionary Algorithm with Clearnig)\n",
        "\n",
        "Clearing: elegir solo las `μ` mejores soluciones únicas"
      ],
      "metadata": {
        "id": "Y7wUhhcBXgoE"
      }
    },
    {
      "cell_type": "code",
      "source": [
        "def EA_WITH_CLEARING(n, m, jobs, μ, λ, delay):\n",
        "    sum_μ_λ = μ + λ\n",
        "    solutions = np.zeros((sum_μ_λ, m*n), dtype=int)\n",
        "    positions = np.zeros((sum_μ_λ, n, m), dtype=int)\n",
        "\n",
        "    range_sum_μ_λ = np.arange(sum_μ_λ)\n",
        "\n",
        "    bestMakespan = math.inf\n",
        "    bestIdx = -1\n",
        "\n",
        "    for i in range_sum_μ_λ:\n",
        "        rep, pos = optimizedRandRep2(n, m)\n",
        "        solutions[i] = rep\n",
        "        positions[i] = pos\n",
        "\n",
        "    timesup = False\n",
        "    iter = 0\n",
        "    t_found_best = 0\n",
        "    progress = []\n",
        "\n",
        "    makespans = np.fromiter( (optimizedCalcMakespan1(solutions[i], n, m, jobs) for i in range_sum_μ_λ), np.int64)\n",
        "\n",
        "    bestMakespan = np.amin(makespans)\n",
        "    bestIdx = np.where(makespans == bestMakespan)[0][0]\n",
        "\n",
        "    progress.append(bestMakespan)\n",
        "\n",
        "    start = time.time()\n",
        "    while not timesup:\n",
        "        iter += 1\n",
        "        \n",
        "        # Clearing INI\n",
        "        first_instance = np.fromiter( (np.where(makespans == i)[0][0] for i in np.unique(makespans)), np.int64)\n",
        "        μbest = np.argpartition(makespans, μ)\n",
        "        μbest = μbest[np.in1d(μbest, first_instance)][:μ]\n",
        "        # Clearing END\n",
        "\n",
        "        λworst = range_sum_μ_λ[np.in1d(range_sum_μ_λ, μbest, invert=True)]\n",
        "\n",
        "        for next, i in enumerate(μbest[1:]):\n",
        "            idx = λworst[next]\n",
        "\n",
        "            temp_solution = recombination(solutions[i - 1], solutions[i])\n",
        "            positions[idx] = np.array([(temp_solution == temp_i).nonzero()[0] for temp_i in range(n)])\n",
        "            solutions[idx] = temp_solution\n",
        "\n",
        "            # new\n",
        "            makespans[idx] = optimizedCalcMakespan1(solutions[idx], n, m, jobs)\n",
        "\n",
        "        # it is important to remember that μ and  λ are the same for this \n",
        "        \n",
        "        time_subs = time.time() - start\n",
        "        if progress[-1] > bestMakespan:\n",
        "            t_found_best = time_subs\n",
        "        progress.append(bestMakespan)\n",
        "        if time_subs >= delay:\n",
        "            timesup = True\n",
        "        else:\n",
        "            bestMakespan = np.amin(makespans)\n",
        "            bestIdx = np.where(makespans == bestMakespan)[0][0]\n",
        "\n",
        "    print('ITERACIONES: ', iter)\n",
        "    return solutions[bestIdx], bestMakespan, progress, t_found_best"
      ],
      "metadata": {
        "id": "eiEp5qM7GHrg"
      },
      "execution_count": null,
      "outputs": []
    },
    {
      "cell_type": "markdown",
      "source": [
        "# TEST"
      ],
      "metadata": {
        "id": "phxGHvlyYQOa"
      }
    },
    {
      "cell_type": "markdown",
      "source": [
        "### abz7"
      ],
      "metadata": {
        "id": "VzA8DsccIigR"
      }
    },
    {
      "cell_type": "code",
      "source": [
        "for i in range(3):\n",
        "    print('====================')\n",
        "    print('INTENTO NRO: ', i + 1)\n",
        "    with open('abz7') as f:\n",
        "        n, m = [int(x) for x in f.readline().split()]\n",
        "        jobs = np.zeros((n, m, 2), dtype=int)\n",
        "        i = 0\n",
        "        for line in f:\n",
        "            jobs[i] = np.array([int(x) for x in line.split()]).reshape(m, 2)\n",
        "            i += 1\n",
        "\n",
        "        #random.seed(1981)\n",
        "        rep, makespan, data, time_of_best = EA_WITH_CLEARING(n, m, jobs, 2**13, 2**13, 180)\n",
        "        # mkSolution(rep, n, m, jobs, makespan)\n",
        "\n",
        "    print('MEJOR MAKESPAN: ', makespan)\n",
        "    print('TIEMPO EN ENCONTARLO: ', int(time_of_best), 'segundos\\n')\n",
        "\n",
        "    fig = plt.figure()\n",
        "    ax = fig.add_subplot(111)\n",
        "    ax.plot(data)\n",
        "    ax.set_xscale('log')\n",
        "    plt.show()\n",
        "\n",
        "    print()"
      ],
      "metadata": {
        "colab": {
          "base_uri": "https://localhost:8080/",
          "height": 1000
        },
        "id": "yblnqi5HIemB",
        "outputId": "4475418e-2dca-4cbe-e508-ab8342b0599a"
      },
      "execution_count": null,
      "outputs": [
        {
          "output_type": "stream",
          "name": "stdout",
          "text": [
            "====================\n",
            "INTENTO NRO:  1\n",
            "ITERACIONES:  135\n",
            "MEJOR MAKESPAN:  851\n",
            "TIEMPO EN ENCONTARLO:  154 segundos\n",
            "\n"
          ]
        },
        {
          "output_type": "display_data",
          "data": {
            "text/plain": [
              "<Figure size 432x288 with 1 Axes>"
            ],
            "image/png": "[encoded data removed]"
          },
          "metadata": {
            "needs_background": "light"
          }
        },
        {
          "output_type": "stream",
          "name": "stdout",
          "text": [
            "\n",
            "====================\n",
            "INTENTO NRO:  2\n",
            "ITERACIONES:  138\n",
            "MEJOR MAKESPAN:  872\n",
            "TIEMPO EN ENCONTARLO:  134 segundos\n",
            "\n"
          ]
        },
        {
          "output_type": "display_data",
          "data": {
            "text/plain": [
              "<Figure size 432x288 with 1 Axes>"
            ],
            "image/png": "[encoded data removed]"
          },
          "metadata": {
            "needs_background": "light"
          }
        },
        {
          "output_type": "stream",
          "name": "stdout",
          "text": [
            "\n",
            "====================\n",
            "INTENTO NRO:  3\n",
            "ITERACIONES:  138\n",
            "MEJOR MAKESPAN:  855\n",
            "TIEMPO EN ENCONTARLO:  174 segundos\n",
            "\n"
          ]
        },
        {
          "output_type": "display_data",
          "data": {
            "text/plain": [
              "<Figure size 432x288 with 1 Axes>"
            ],
            "image/png": "[encoded data removed]"
          },
          "metadata": {
            "needs_background": "light"
          }
        },
        {
          "output_type": "stream",
          "name": "stdout",
          "text": [
            "\n"
          ]
        }
      ]
    },
    {
      "cell_type": "markdown",
      "source": [
        "### la04"
      ],
      "metadata": {
        "id": "epYKC3APchwH"
      }
    },
    {
      "cell_type": "code",
      "source": [
        "for i in range(3):\n",
        "    print('====================')\n",
        "    print('INTENTO NRO: ', i + 1)\n",
        "    with open('la04') as f:\n",
        "        n, m = [int(x) for x in f.readline().split()]\n",
        "        jobs = np.zeros((n, m, 2), dtype=int)\n",
        "        i = 0\n",
        "        for line in f:\n",
        "            jobs[i] = np.array([int(x) for x in line.split()]).reshape(m, 2)\n",
        "            i += 1\n",
        "\n",
        "        #random.seed(1981)\n",
        "        rep, makespan, data, time_of_best = EA_WITH_CLEARING(n, m, jobs, 2**13, 2**13, 180)\n",
        "        # mkSolution(rep, n, m, jobs, makespan)\n",
        "\n",
        "    print('MEJOR MAKESPAN: ', makespan)\n",
        "    print('TIEMPO EN ENCONTARLO: ', int(time_of_best), 'segundos\\n')\n",
        "\n",
        "    fig = plt.figure()\n",
        "    ax = fig.add_subplot(111)\n",
        "    ax.plot(data)\n",
        "    ax.set_xscale('log')\n",
        "    plt.show()\n",
        "\n",
        "    print()"
      ],
      "metadata": {
        "id": "CocAizO4cpIr",
        "colab": {
          "base_uri": "https://localhost:8080/",
          "height": 1000
        },
        "outputId": "a2c75486-578b-47da-a645-4b02ff3cb016"
      },
      "execution_count": null,
      "outputs": [
        {
          "output_type": "stream",
          "name": "stdout",
          "text": [
            "====================\n",
            "INTENTO NRO:  1\n",
            "ITERACIONES:  754\n",
            "MEJOR MAKESPAN:  632\n",
            "TIEMPO EN ENCONTARLO:  40 segundos\n",
            "\n"
          ]
        },
        {
          "output_type": "display_data",
          "data": {
            "text/plain": [
              "<Figure size 432x288 with 1 Axes>"
            ],
            "image/png": "[encoded data removed]"
          },
          "metadata": {
            "needs_background": "light"
          }
        },
        {
          "output_type": "stream",
          "name": "stdout",
          "text": [
            "\n",
            "====================\n",
            "INTENTO NRO:  2\n",
            "ITERACIONES:  611\n",
            "MEJOR MAKESPAN:  619\n",
            "TIEMPO EN ENCONTARLO:  154 segundos\n",
            "\n"
          ]
        },
        {
          "output_type": "display_data",
          "data": {
            "text/plain": [
              "<Figure size 432x288 with 1 Axes>"
            ],
            "image/png": "[encoded data removed]"
          },
          "metadata": {
            "needs_background": "light"
          }
        },
        {
          "output_type": "stream",
          "name": "stdout",
          "text": [
            "\n",
            "====================\n",
            "INTENTO NRO:  3\n",
            "ITERACIONES:  653\n",
            "MEJOR MAKESPAN:  632\n",
            "TIEMPO EN ENCONTARLO:  7 segundos\n",
            "\n"
          ]
        },
        {
          "output_type": "display_data",
          "data": {
            "text/plain": [
              "<Figure size 432x288 with 1 Axes>"
            ],
            "image/png": "[encoded data removed]"
          },
          "metadata": {
            "needs_background": "light"
          }
        },
        {
          "output_type": "stream",
          "name": "stdout",
          "text": [
            "\n"
          ]
        }
      ]
    },
    {
      "cell_type": "markdown",
      "source": [
        "### swv15"
      ],
      "metadata": {
        "id": "cSYgUoRDeIpD"
      }
    },
    {
      "cell_type": "code",
      "source": [
        "for i in range(3):\n",
        "    print('====================')\n",
        "    print('INTENTO NRO: ', i + 1)\n",
        "    with open('swv15') as f:\n",
        "        n, m = [int(x) for x in f.readline().split()]\n",
        "        jobs = np.zeros((n, m, 2), dtype=int)\n",
        "        i = 0\n",
        "        for line in f:\n",
        "            jobs[i] = np.array([int(x) for x in line.split()]).reshape(m, 2)\n",
        "            i += 1\n",
        "\n",
        "        #random.seed(1981)\n",
        "        rep, makespan, data, time_of_best = EA_WITH_CLEARING(n, m, jobs, 2**13, 2**13, 180)\n",
        "        # mkSolution(rep, n, m, jobs, makespan)\n",
        "\n",
        "    print('MEJOR MAKESPAN: ', makespan)\n",
        "    print('TIEMPO EN ENCONTARLO: ', int(time_of_best), 'segundos\\n')\n",
        "\n",
        "    fig = plt.figure()\n",
        "    ax = fig.add_subplot(111)\n",
        "    ax.plot(data)\n",
        "    ax.set_xscale('log')\n",
        "    plt.show()\n",
        "\n",
        "    print()"
      ],
      "metadata": {
        "id": "UMql7-GQcqJQ",
        "colab": {
          "base_uri": "https://localhost:8080/",
          "height": 1000
        },
        "outputId": "50ad2ca4-bd94-4384-b124-dbc3f31e8372"
      },
      "execution_count": null,
      "outputs": [
        {
          "output_type": "stream",
          "name": "stdout",
          "text": [
            "====================\n",
            "INTENTO NRO:  1\n",
            "ITERACIONES:  20\n",
            "MEJOR MAKESPAN:  5281\n",
            "TIEMPO EN ENCONTARLO:  162 segundos\n",
            "\n"
          ]
        },
        {
          "output_type": "display_data",
          "data": {
            "text/plain": [
              "<Figure size 432x288 with 1 Axes>"
            ],
            "image/png": "[encoded data removed]"
          },
          "metadata": {
            "needs_background": "light"
          }
        },
        {
          "output_type": "stream",
          "name": "stdout",
          "text": [
            "\n",
            "====================\n",
            "INTENTO NRO:  2\n",
            "ITERACIONES:  20\n",
            "MEJOR MAKESPAN:  5422\n",
            "TIEMPO EN ENCONTARLO:  18 segundos\n",
            "\n"
          ]
        },
        {
          "output_type": "display_data",
          "data": {
            "text/plain": [
              "<Figure size 432x288 with 1 Axes>"
            ],
            "image/png": "[encoded data removed]"
          },
          "metadata": {
            "needs_background": "light"
          }
        },
        {
          "output_type": "stream",
          "name": "stdout",
          "text": [
            "\n",
            "====================\n",
            "INTENTO NRO:  3\n",
            "ITERACIONES:  21\n",
            "MEJOR MAKESPAN:  5347\n",
            "TIEMPO EN ENCONTARLO:  169 segundos\n",
            "\n"
          ]
        },
        {
          "output_type": "display_data",
          "data": {
            "text/plain": [
              "<Figure size 432x288 with 1 Axes>"
            ],
            "image/png": "[encoded data removed]"
          },
          "metadata": {
            "needs_background": "light"
          }
        },
        {
          "output_type": "stream",
          "name": "stdout",
          "text": [
            "\n"
          ]
        }
      ]
    },
    {
      "cell_type": "markdown",
      "source": [
        "### yn4"
      ],
      "metadata": {
        "id": "bZL-NuiUedQQ"
      }
    },
    {
      "cell_type": "code",
      "source": [
        "for i in range(3):\n",
        "    print('====================')\n",
        "    print('INTENTO NRO: ', i + 1)\n",
        "    with open('yn4') as f:\n",
        "        n, m = [int(x) for x in f.readline().split()]\n",
        "        jobs = np.zeros((n, m, 2), dtype=int)\n",
        "        i = 0\n",
        "        for line in f:\n",
        "            jobs[i] = np.array([int(x) for x in line.split()]).reshape(m, 2)\n",
        "            i += 1\n",
        "\n",
        "        #random.seed(1981)\n",
        "        rep, makespan, data, time_of_best = EA_WITH_CLEARING(n, m, jobs, 2**13, 2**13, 180)\n",
        "        # mkSolution(rep, n, m, jobs, makespan)\n",
        "\n",
        "    print('MEJOR MAKESPAN: ', makespan)\n",
        "    print('TIEMPO EN ENCONTARLO: ', int(time_of_best), 'segundos\\n')\n",
        "\n",
        "    fig = plt.figure()\n",
        "    ax = fig.add_subplot(111)\n",
        "    ax.plot(data)\n",
        "    ax.set_xscale('log')\n",
        "    plt.show()\n",
        "\n",
        "    print()"
      ],
      "metadata": {
        "id": "oqq8xNqFef3U",
        "colab": {
          "base_uri": "https://localhost:8080/",
          "height": 1000
        },
        "outputId": "ff4e4349-441f-4a4e-e398-5ba2d97595cf"
      },
      "execution_count": null,
      "outputs": [
        {
          "output_type": "stream",
          "name": "stdout",
          "text": [
            "====================\n",
            "INTENTO NRO:  1\n",
            "ITERACIONES:  76\n",
            "MEJOR MAKESPAN:  1442\n",
            "TIEMPO EN ENCONTARLO:  144 segundos\n",
            "\n"
          ]
        },
        {
          "output_type": "display_data",
          "data": {
            "text/plain": [
              "<Figure size 432x288 with 1 Axes>"
            ],
            "image/png": "[encoded data removed]"
          },
          "metadata": {
            "needs_background": "light"
          }
        },
        {
          "output_type": "stream",
          "name": "stdout",
          "text": [
            "\n",
            "====================\n",
            "INTENTO NRO:  2\n",
            "ITERACIONES:  73\n",
            "MEJOR MAKESPAN:  1414\n",
            "TIEMPO EN ENCONTARLO:  40 segundos\n",
            "\n"
          ]
        },
        {
          "output_type": "display_data",
          "data": {
            "text/plain": [
              "<Figure size 432x288 with 1 Axes>"
            ],
            "image/png": "[encoded data removed]"
          },
          "metadata": {
            "needs_background": "light"
          }
        },
        {
          "output_type": "stream",
          "name": "stdout",
          "text": [
            "\n",
            "====================\n",
            "INTENTO NRO:  3\n",
            "ITERACIONES:  74\n",
            "MEJOR MAKESPAN:  1364\n",
            "TIEMPO EN ENCONTARLO:  33 segundos\n",
            "\n"
          ]
        },
        {
          "output_type": "display_data",
          "data": {
            "text/plain": [
              "<Figure size 432x288 with 1 Axes>"
            ],
            "image/png": "[encoded data removed]"
          },
          "metadata": {
            "needs_background": "light"
          }
        },
        {
          "output_type": "stream",
          "name": "stdout",
          "text": [
            "\n"
          ]
        }
      ]
    }
  ]
}